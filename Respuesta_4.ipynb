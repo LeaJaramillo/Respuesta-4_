{
 "cells": [
  {
   "cell_type": "markdown",
   "id": "b80139ac-5c70-4181-b8b7-5efd46767669",
   "metadata": {
    "id": "NUpwUcSk2jHk"
   },
   "source": [
    "<img width=\"600px\" src=\"https://www.urp.edu.pe/img/thumbnails/wm/745/hm/243/we/745/he/243/x/0/y/0/s/0/q/60/zc/3/f/0/rgb/000000/src/28042/n/picture3.png\"></img>\n",
    "# <font color='Darkorange'>Unidad de Posgrado - Maestría en Ciencia de los datos</font></span>\n",
    "## <font color='Steelblue'> Matemática Aplicada a la Ciencia de Datos - Prof: Mg. Carlos Deudor Gomez </font></span>\n",
    "## Alumno: **Jaramillo - Rojas - Leandra Marcela**\n",
    "---\n",
    "----"
   ]
  },
  {
   "cell_type": "markdown",
   "id": "487aeb1a-98ce-455c-a6a2-195ae071e7c5",
   "metadata": {},
   "source": [
    "**Ejercicio 4**"
   ]
  },
  {
   "cell_type": "markdown",
   "id": "1a0f5483-56c4-4aa5-a078-17c7ae8ee459",
   "metadata": {},
   "source": [
    "Encriptación con matrices. Usando matrices elabore un algoritmo para encriptar y desencriptar sus Apellidos y Nombre, donde clave publica."
   ]
  },
  {
   "cell_type": "markdown",
   "id": "02031bab-0d90-4da2-8ab2-5c415b63060c",
   "metadata": {},
   "source": [
    "**Respuesta**"
   ]
  },
  {
   "cell_type": "code",
   "execution_count": 3,
   "id": "0ac7ee84-b07b-4b69-9156-e20b39c3a28f",
   "metadata": {
    "tags": []
   },
   "outputs": [],
   "source": [
    "def get_matrix_message(message, rows):\n",
    "  matrix_message = []\n",
    "  array = []\n",
    "  i = 0\n",
    "\n",
    "  for m in message.upper():\n",
    "    array.append(get_index_letter(m))\n",
    "    if i + 1 == rows:\n",
    "      i = 0\n",
    "      matrix_message.append(array)\n",
    "      array = []\n",
    "    else:\n",
    "      i = i + 1\n",
    "\n",
    "  if i < rows:\n",
    "    for j in range(0, rows-i):\n",
    "      array.append(27)\n",
    "    matrix_message.append(array)\n",
    "\n",
    "  return Matrix(matrix_message).transpose()\n",
    "\n",
    "def get_message(array_decripted_message):\n",
    "  message = ''\n",
    "  for i in array_decripted_message:\n",
    "    message = message + array_letters[i - 1]\n",
    "\n",
    "  return message.strip()\n",
    "\n",
    "def get_index_letter(letter):\n",
    "  for i in range(0,len(array_letters)):\n",
    "    if array_letters[i] == letter:\n",
    "      return i+1\n",
    "      break"
   ]
  },
  {
   "cell_type": "code",
   "execution_count": 4,
   "id": "fbdae8ca-b14f-433a-b480-8ffcf2029809",
   "metadata": {
    "tags": []
   },
   "outputs": [],
   "source": [
    "from sympy import *\n",
    "init_printing() # renderizar en símbolos LaTex\n",
    "\n",
    "array_letters = ['A', 'B', 'C', 'D', 'E', 'F', 'G', 'H', 'I', 'J', 'K', 'L', 'M', 'N', 'O', 'P', 'Q', 'R', 'S', 'T', 'U', 'V', 'W', 'X', 'Y', 'Z' , ' ']\n",
    "key = Matrix([[2, 1], [1, 1]])\n",
    "rows = key.rows"
   ]
  },
  {
   "cell_type": "code",
   "execution_count": 5,
   "id": "c6943328-a027-4ace-811d-5eb7b518131e",
   "metadata": {
    "tags": []
   },
   "outputs": [
    {
     "data": {
      "text/latex": [
       "$\\displaystyle \\left[\\begin{matrix}21 & 37 & 35 & 36 & 57 & 29 & 16 & 26 & 29\\\\11 & 19 & 22 & 24 & 42 & 17 & 15 & 22 & 28\\end{matrix}\\right]$"
      ],
      "text/plain": [
       "⎡21  37  35  36  57  29  16  26  29⎤\n",
       "⎢                                  ⎥\n",
       "⎣11  19  22  24  42  17  15  22  28⎦"
      ]
     },
     "execution_count": 5,
     "metadata": {},
     "output_type": "execute_result"
    }
   ],
   "source": [
    "def encrypt(message):\n",
    "  matrix_message = get_matrix_message(message, rows)\n",
    "  cifrado = key*matrix_message\n",
    "  return cifrado\n",
    "\n",
    "encrypted = encrypt(\"JARAMILLO LEANDRA\")\n",
    "encrypted"
   ]
  }
 ],
 "metadata": {
  "kernelspec": {
   "display_name": "Python 3 (ipykernel)",
   "language": "python",
   "name": "python3"
  },
  "language_info": {
   "codemirror_mode": {
    "name": "ipython",
    "version": 3
   },
   "file_extension": ".py",
   "mimetype": "text/x-python",
   "name": "python",
   "nbconvert_exporter": "python",
   "pygments_lexer": "ipython3",
   "version": "3.11.5"
  }
 },
 "nbformat": 4,
 "nbformat_minor": 5
}
